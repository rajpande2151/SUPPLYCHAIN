{
 "cells": [
  {
   "cell_type": "code",
   "execution_count": null,
   "id": "488dcd32-e698-4561-8b59-44a0f3f63665",
   "metadata": {},
   "outputs": [],
   "source": []
  }
 ],
 "metadata": {
  "kernelspec": {
   "display_name": "",
   "name": ""
  },
  "language_info": {
   "name": ""
  }
 },
 "nbformat": 4,
 "nbformat_minor": 5
}
