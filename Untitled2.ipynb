{
 "cells": [
  {
   "cell_type": "code",
   "execution_count": null,
   "id": "f37071f5-69fa-4c5f-a376-beba8c629a24",
   "metadata": {},
   "outputs": [],
   "source": []
  }
 ],
 "metadata": {
  "kernelspec": {
   "display_name": "",
   "name": ""
  },
  "language_info": {
   "name": ""
  }
 },
 "nbformat": 4,
 "nbformat_minor": 5
}
