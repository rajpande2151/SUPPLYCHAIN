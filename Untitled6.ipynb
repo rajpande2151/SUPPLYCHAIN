{
 "cells": [
  {
   "cell_type": "code",
   "execution_count": null,
   "id": "06314456-b2e9-4c69-9846-3c52d1452f50",
   "metadata": {},
   "outputs": [],
   "source": []
  }
 ],
 "metadata": {
  "kernelspec": {
   "display_name": "",
   "name": ""
  },
  "language_info": {
   "name": ""
  }
 },
 "nbformat": 4,
 "nbformat_minor": 5
}
